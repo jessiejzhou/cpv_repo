{
 "cells": [
  {
   "cell_type": "code",
   "execution_count": 2,
   "id": "ca2b56c7-ada5-4247-80aa-0916355414ea",
   "metadata": {},
   "outputs": [],
   "source": [
    "import requests\n",
    "import json\n",
    "import io\n",
    "import os\n",
    "import csv\n",
    "import pandas as pd\n",
    "import openpyxl"
   ]
  },
  {
   "cell_type": "markdown",
   "id": "f282741e-ebe5-48e5-b63b-3549c4550a76",
   "metadata": {},
   "source": [
    "# Getting the Access Token"
   ]
  },
  {
   "cell_type": "code",
   "execution_count": 4,
   "id": "afcca417-fce8-4385-96be-a29df082216a",
   "metadata": {
    "scrolled": true
   },
   "outputs": [
    {
     "name": "stdout",
     "output_type": "stream",
     "text": [
      "QXjbyhfhqMjNcf4KE1ylLbEyvV2kJR4-YfCnOaA_sTQ\n"
     ]
    }
   ],
   "source": [
    "header_url = 'https://counter-club.us.hivebrite.com/api'\n",
    "\n",
    "oauth_url = '/oauth/token'\n",
    "\n",
    "payload = {\n",
    "    'grant_type': \"password\",\n",
    "    \"admin_email\": \"abbie@counterpart.vc\",\n",
    "    \"password\": \"SanFran2023!\",\n",
    "    \"client_id\": \"OXq_LdzDg81ZP-1tDPKmvUBhhGKO02_QaJO3xZXYLL8\",\n",
    "    \"client_secret\": \"Wl0TmLIu-XskM5XHIdjIfzaZfwcCumVzeoTiaDvL0dQ\",\n",
    "    \"scope\": \"admin\"\n",
    "}\n",
    "response = requests.post(f'{header_url}{oauth_url}', data=payload)\n",
    "\n",
    "access_token = response.json().get('access_token', None)\n",
    "\n",
    "print(access_token)"
   ]
  },
  {
   "cell_type": "markdown",
   "id": "fb92a628-2342-49c7-b887-be13b6ee1794",
   "metadata": {},
   "source": [
    "# Importing Industries"
   ]
  },
  {
   "cell_type": "markdown",
   "id": "0b3d9ab7-4544-4de8-af82-fb5112869bbd",
   "metadata": {},
   "source": [
    "## Getting Industries from Hivebrite API"
   ]
  },
  {
   "cell_type": "code",
   "execution_count": 5,
   "id": "cff107c6-757d-437c-a464-08a1a92dc1fc",
   "metadata": {},
   "outputs": [],
   "source": [
    "industry_url = \"/admin/v1/settings/industries\"\n",
    "headers = {\n",
    "    'Authorization': f'Bearer {access_token}'\n",
    "}\n",
    "\n",
    "industries = requests.get(f'{header_url}{industry_url}', headers=headers)\n",
    "industries = industries.json()['industries']"
   ]
  },
  {
   "cell_type": "markdown",
   "id": "08cf4b47-10a2-4cfe-b262-0bf334b6fb85",
   "metadata": {},
   "source": [
    "## Data Manipulation\n",
    "\n",
    "Combining Company ID with Industry ID"
   ]
  },
  {
   "cell_type": "code",
   "execution_count": 6,
   "id": "b9f303ed-6593-427e-b4fe-d57026204393",
   "metadata": {
    "scrolled": true
   },
   "outputs": [
    {
     "data": {
      "text/plain": [
       "{'company_id': 1339485, 'id': [1748, 13527]}"
      ]
     },
     "execution_count": 6,
     "metadata": {},
     "output_type": "execute_result"
    }
   ],
   "source": [
    "# the file we're pulling data from\n",
    "file_path = \"/Users/counterpartventures/Desktop/Data/affinity/company_upload.xlsx\"\n",
    "df = pd.read_excel(file_path, sheet_name=\"industry_only\")\n",
    "industry_code = pd.DataFrame(industries)\n",
    "\n",
    "df.columns = [\"company_id\", \"name\"]\n",
    "\n",
    "# Split the industry by commas\n",
    "df = df.assign(name=df['name'].str.split(', ')).explode('name')\n",
    "df = df.merge(industry_code, on=\"name\", how=\"left\").dropna()\n",
    "df['id'] = df['id'].astype(int)\n",
    "\n",
    "# Group by 'company_id' and summarize\n",
    "df = df.groupby('company_id').agg({'id': list}).reset_index()\n",
    "\n",
    "# Convert to JSON and save\n",
    "json_df = df.to_json(orient='records', indent=2)\n",
    "\n",
    "# load to use in Py\n",
    "json_obj = json.loads(json_df)\n",
    "\n",
    "json_obj[326]"
   ]
  },
  {
   "cell_type": "markdown",
   "id": "d34834b2-8f13-4a4a-bfb7-45c92cd88c4c",
   "metadata": {},
   "source": [
    "### Testing insert"
   ]
  },
  {
   "cell_type": "code",
   "execution_count": 196,
   "id": "4a340f29-91a6-436b-a2ed-f70f2ab93368",
   "metadata": {},
   "outputs": [
    {
     "data": {
      "text/plain": [
       "<Response [200]>"
      ]
     },
     "execution_count": 196,
     "metadata": {},
     "output_type": "execute_result"
    }
   ],
   "source": [
    "test_url = json_obj[326]['company_id']\n",
    "test_id = json_obj[326]['id']\n",
    "\n",
    "test_data = {\n",
    "    'company[industries][][id]' : test_id\n",
    "}\n",
    "\n",
    "requests.put(f'{header_url}{company_header}{test_url}', headers = headers, data = test_data)"
   ]
  },
  {
   "cell_type": "markdown",
   "id": "a2c66ea1-18e6-4339-be0e-1a49804be683",
   "metadata": {},
   "source": [
    "## Putting Industries into Affinity"
   ]
  },
  {
   "cell_type": "code",
   "execution_count": 160,
   "id": "c711f1a1-8921-4309-90a5-ccec764c6cd8",
   "metadata": {},
   "outputs": [],
   "source": [
    "for entry in json_obj:\n",
    "    temp_url = entry['company_id']\n",
    "    temp_id = entry['id']\n",
    "\n",
    "    temp_data = {\n",
    "        'company[industries][][id]' : temp_id\n",
    "    }\n",
    "\n",
    "    requests.put(f'{header_url}{company_header}{temp_url}', headers = headers, data = temp_data)"
   ]
  },
  {
   "cell_type": "markdown",
   "id": "d7632100-8151-462d-87c6-d944304915af",
   "metadata": {},
   "source": [
    "# Adding Long Description"
   ]
  },
  {
   "cell_type": "code",
   "execution_count": 7,
   "id": "db2e1ccf-aaab-43b7-a8da-bec772c811fe",
   "metadata": {},
   "outputs": [],
   "source": [
    "descrip = pd.read_excel(file_path, sheet_name=\"long_description\")\n",
    "\n",
    "descrip_json = descrip.to_json(orient='records', indent=1)\n",
    "\n",
    "descrip_obj = json.loads(descrip_json)b"
   ]
  },
  {
   "cell_type": "markdown",
   "id": "b4af5ee1-1175-446c-9e77-9c70b97fd396",
   "metadata": {},
   "source": [
    "## Testing Insert"
   ]
  },
  {
   "cell_type": "code",
   "execution_count": 314,
   "id": "6444e9eb-ab7d-4b35-bfa0-3ff406fac9e5",
   "metadata": {},
   "outputs": [
    {
     "data": {
      "text/plain": [
       "<Response [200]>"
      ]
     },
     "execution_count": 314,
     "metadata": {},
     "output_type": "execute_result"
    }
   ],
   "source": [
    "test_url = descrip_obj[365]['ID']\n",
    "test_descrip = descrip_obj[365]['long_description']\n",
    "\n",
    "test_data = {\n",
    "    'company[long_description]' : test_descrip\n",
    "}\n",
    "\n",
    "requests.put(f'{header_url}{company_header}{test_url}', headers = headers, data = test_data)"
   ]
  },
  {
   "cell_type": "code",
   "execution_count": 315,
   "id": "218a3cdf-2908-466c-b892-8b15ee99106c",
   "metadata": {},
   "outputs": [],
   "source": [
    "for entry in descrip_obj:\n",
    "    temp_url = entry['ID']\n",
    "    temp_descrip = entry['long_description']\n",
    "\n",
    "    temp_data = {\n",
    "        'company[long_description]' : temp_descrip\n",
    "    }\n",
    "\n",
    "    requests.put(f'{header_url}{company_header}{temp_url}', headers = headers, data = temp_data)"
   ]
  }
 ],
 "metadata": {
  "kernelspec": {
   "display_name": "Python 3 (ipykernel)",
   "language": "python",
   "name": "python3"
  },
  "language_info": {
   "codemirror_mode": {
    "name": "ipython",
    "version": 3
   },
   "file_extension": ".py",
   "mimetype": "text/x-python",
   "name": "python",
   "nbconvert_exporter": "python",
   "pygments_lexer": "ipython3",
   "version": "3.12.4"
  }
 },
 "nbformat": 4,
 "nbformat_minor": 5
}
