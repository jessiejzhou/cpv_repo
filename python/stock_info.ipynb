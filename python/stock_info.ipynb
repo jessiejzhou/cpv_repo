{
 "cells": [
  {
   "cell_type": "code",
   "execution_count": 20,
   "id": "de6e86da-8a74-4d83-88c9-02c4e8c11ba4",
   "metadata": {},
   "outputs": [
    {
     "name": "stdout",
     "output_type": "stream",
     "text": [
      "Requirement already satisfied: yfinance in /Library/Frameworks/Python.framework/Versions/3.12/lib/python3.12/site-packages (0.2.43)\n",
      "Requirement already satisfied: pandas>=1.3.0 in /Library/Frameworks/Python.framework/Versions/3.12/lib/python3.12/site-packages (from yfinance) (2.2.2)\n",
      "Requirement already satisfied: numpy>=1.16.5 in /Library/Frameworks/Python.framework/Versions/3.12/lib/python3.12/site-packages (from yfinance) (2.0.0)\n",
      "Requirement already satisfied: requests>=2.31 in /Library/Frameworks/Python.framework/Versions/3.12/lib/python3.12/site-packages (from yfinance) (2.32.3)\n",
      "Requirement already satisfied: multitasking>=0.0.7 in /Library/Frameworks/Python.framework/Versions/3.12/lib/python3.12/site-packages (from yfinance) (0.0.11)\n",
      "Requirement already satisfied: lxml>=4.9.1 in /Library/Frameworks/Python.framework/Versions/3.12/lib/python3.12/site-packages (from yfinance) (5.3.0)\n",
      "Requirement already satisfied: platformdirs>=2.0.0 in /Library/Frameworks/Python.framework/Versions/3.12/lib/python3.12/site-packages (from yfinance) (4.2.2)\n",
      "Requirement already satisfied: pytz>=2022.5 in /Library/Frameworks/Python.framework/Versions/3.12/lib/python3.12/site-packages (from yfinance) (2024.1)\n",
      "Requirement already satisfied: frozendict>=2.3.4 in /Library/Frameworks/Python.framework/Versions/3.12/lib/python3.12/site-packages (from yfinance) (2.4.4)\n",
      "Requirement already satisfied: peewee>=3.16.2 in /Library/Frameworks/Python.framework/Versions/3.12/lib/python3.12/site-packages (from yfinance) (3.17.6)\n",
      "Requirement already satisfied: beautifulsoup4>=4.11.1 in /Library/Frameworks/Python.framework/Versions/3.12/lib/python3.12/site-packages (from yfinance) (4.12.3)\n",
      "Requirement already satisfied: html5lib>=1.1 in /Library/Frameworks/Python.framework/Versions/3.12/lib/python3.12/site-packages (from yfinance) (1.1)\n",
      "Requirement already satisfied: soupsieve>1.2 in /Library/Frameworks/Python.framework/Versions/3.12/lib/python3.12/site-packages (from beautifulsoup4>=4.11.1->yfinance) (2.5)\n",
      "Requirement already satisfied: six>=1.9 in /Library/Frameworks/Python.framework/Versions/3.12/lib/python3.12/site-packages (from html5lib>=1.1->yfinance) (1.16.0)\n",
      "Requirement already satisfied: webencodings in /Library/Frameworks/Python.framework/Versions/3.12/lib/python3.12/site-packages (from html5lib>=1.1->yfinance) (0.5.1)\n",
      "Requirement already satisfied: python-dateutil>=2.8.2 in /Library/Frameworks/Python.framework/Versions/3.12/lib/python3.12/site-packages (from pandas>=1.3.0->yfinance) (2.9.0.post0)\n",
      "Requirement already satisfied: tzdata>=2022.7 in /Library/Frameworks/Python.framework/Versions/3.12/lib/python3.12/site-packages (from pandas>=1.3.0->yfinance) (2024.1)\n",
      "Requirement already satisfied: charset-normalizer<4,>=2 in /Library/Frameworks/Python.framework/Versions/3.12/lib/python3.12/site-packages (from requests>=2.31->yfinance) (3.3.2)\n",
      "Requirement already satisfied: idna<4,>=2.5 in /Library/Frameworks/Python.framework/Versions/3.12/lib/python3.12/site-packages (from requests>=2.31->yfinance) (3.7)\n",
      "Requirement already satisfied: urllib3<3,>=1.21.1 in /Library/Frameworks/Python.framework/Versions/3.12/lib/python3.12/site-packages (from requests>=2.31->yfinance) (2.2.2)\n",
      "Requirement already satisfied: certifi>=2017.4.17 in /Library/Frameworks/Python.framework/Versions/3.12/lib/python3.12/site-packages (from requests>=2.31->yfinance) (2024.7.4)\n",
      "\n",
      "\u001b[1m[\u001b[0m\u001b[34;49mnotice\u001b[0m\u001b[1;39;49m]\u001b[0m\u001b[39;49m A new release of pip is available: \u001b[0m\u001b[31;49m24.0\u001b[0m\u001b[39;49m -> \u001b[0m\u001b[32;49m24.2\u001b[0m\n",
      "\u001b[1m[\u001b[0m\u001b[34;49mnotice\u001b[0m\u001b[1;39;49m]\u001b[0m\u001b[39;49m To update, run: \u001b[0m\u001b[32;49mpip3 install --upgrade pip\u001b[0m\n",
      "Note: you may need to restart the kernel to use updated packages.\n"
     ]
    }
   ],
   "source": [
    "pip install yfinance"
   ]
  },
  {
   "cell_type": "code",
   "execution_count": null,
   "id": "2e280ff1-7561-4f0c-9b07-69f912a201e9",
   "metadata": {},
   "outputs": [],
   "source": [
    "pip install json"
   ]
  },
  {
   "cell_type": "code",
   "execution_count": null,
   "id": "da0fbdbe-f488-4d57-9b9b-6e4fd59561a6",
   "metadata": {},
   "outputs": [],
   "source": [
    "pip install pandas"
   ]
  },
  {
   "cell_type": "code",
   "execution_count": null,
   "id": "8163fd86-9851-4624-87e5-89cf22c9fa20",
   "metadata": {},
   "outputs": [],
   "source": [
    "pip install requests"
   ]
  },
  {
   "cell_type": "code",
   "execution_count": null,
   "id": "061766bf-c3c5-444f-bed9-89d7f9653dfb",
   "metadata": {},
   "outputs": [],
   "source": [
    "pip install openpyxl"
   ]
  },
  {
   "cell_type": "code",
   "execution_count": 1,
   "id": "2e012bd2-039e-4980-9a3c-200aafaf7e40",
   "metadata": {},
   "outputs": [],
   "source": [
    "import yfinance as yf\n",
    "import json\n",
    "import pandas as pd\n",
    "import requests\n",
    "from openpyxl import load_workbook"
   ]
  },
  {
   "cell_type": "markdown",
   "id": "3a667c55-10b0-4b41-bcd2-32643047108c",
   "metadata": {},
   "source": [
    "### loading the data, if file name is updated just change `file_path`"
   ]
  },
  {
   "cell_type": "code",
   "execution_count": 2,
   "id": "7659f6fc-b844-45cf-ba3d-dc4090661730",
   "metadata": {},
   "outputs": [],
   "source": [
    "file_path = \"/Users/counterpartventures/Desktop/Data/Survey_Data_V5.xlsx\"\n",
    "df = pd.read_excel(file_path, sheet_name=\"tickers\")"
   ]
  },
  {
   "cell_type": "markdown",
   "id": "1eafa280-8886-48bb-9eeb-deaf7d40567b",
   "metadata": {},
   "source": [
    "### defining functions to get metrics"
   ]
  },
  {
   "cell_type": "code",
   "execution_count": 3,
   "id": "294a9085-f306-448e-906d-418c238146d9",
   "metadata": {},
   "outputs": [],
   "source": [
    "def get_market_cap(ticker):\n",
    "    company = yf.Ticker(ticker)\n",
    "    return company.info.get(\"marketCap\", None)\n",
    "\n",
    "def get_currency(ticker):\n",
    "    company = yf.Ticker(ticker)\n",
    "    return company.info.get(\"currency\", None)\n",
    "\n",
    "def get_revenue(ticker):\n",
    "    company = yf.Ticker(ticker)\n",
    "    revenue = company.financials.loc['Total Revenue'].dropna()\n",
    "    return revenue.iloc[0]"
   ]
  },
  {
   "cell_type": "markdown",
   "id": "0eb36459-2e11-4227-ab47-231504df2a40",
   "metadata": {},
   "source": [
    "### Getting metrics from Yahoo Finance, adding them to a new df `results`"
   ]
  },
  {
   "cell_type": "code",
   "execution_count": 4,
   "id": "2a8f6b41-4fc6-4bd0-a998-7c28e256ff48",
   "metadata": {},
   "outputs": [],
   "source": [
    "market_caps = []\n",
    "revenues = []\n",
    "currencies = []\n",
    "\n",
    "# pulling data\n",
    "\n",
    "for ticker in df[\"ticker_symbol\"]:\n",
    "    market_cap = get_market_cap(ticker)\n",
    "    revenue = get_revenue(ticker)\n",
    "    currency = get_currency(ticker)\n",
    "\n",
    "    market_caps.append(market_cap)\n",
    "    revenues.append(revenue)\n",
    "    currencies.append(currency)"
   ]
  },
  {
   "cell_type": "code",
   "execution_count": null,
   "id": "652d9c61-5fa3-4172-ba0b-66a36b2c4580",
   "metadata": {},
   "outputs": [],
   "source": [
    "# creating new df with data pull\n",
    "\n",
    "result = pd.DataFrame({\n",
    "    'company': df['corp_parent'],\n",
    "    'market_cap': market_caps,\n",
    "    'revenue': revenues,\n",
    "    'currency' : currencies\n",
    "})"
   ]
  },
  {
   "cell_type": "markdown",
   "id": "d110f7e1-5c73-445d-9f39-703d008a3e2d",
   "metadata": {},
   "source": [
    "### Converting Currency to USD"
   ]
  },
  {
   "cell_type": "code",
   "execution_count": 5,
   "id": "483e464d-3e64-4c46-91c1-e588beba24dd",
   "metadata": {},
   "outputs": [],
   "source": [
    "# Conversion rate API\n",
    "\n",
    "api_key = '225a1d628c6d8905e45fa173'\n",
    "url = f'https://v6.exchangerate-api.com/v6/{api_key}/latest/USD'\n",
    "response = requests.get(url)\n",
    "conversions = response.json()\n",
    "\n",
    "result['currency'] = result['currency'].str.upper()\n",
    "\n",
    "# function to covert to USD\n",
    "\n",
    "def convert_usd(amt, currency):\n",
    "    if currency == 'USD' or pd.isna(amt):\n",
    "        return amt\n",
    "    elif amt is not None:\n",
    "        if currency in conversions['conversion_rates']:\n",
    "            rate = conversions['conversion_rates'][currency]\n",
    "            return amt / rate\n",
    "    return None\n",
    "\n",
    "# converting market cap and revenue to $B\n",
    "\n",
    "result['market_cap_usd'] = result.apply(\n",
    "    lambda row: row['market_cap'] if row['currency'] == 'USD'\n",
    "    else convert_usd(row['market_cap'], row['currency']),\n",
    "    axis = 1\n",
    ") / 1e9\n",
    "\n",
    "result['revenue_usd'] = result.apply(\n",
    "    lambda row: row['revenue'] if row['currency'] == 'USD'\n",
    "    else convert_usd(row['revenue'], row['currency']),\n",
    "    axis = 1\n",
    ") / 1e9"
   ]
  },
  {
   "cell_type": "code",
   "execution_count": 6,
   "id": "d65015cb-ac07-4131-8eaf-6439c6c8b7d3",
   "metadata": {
    "scrolled": true
   },
   "outputs": [],
   "source": [
    "## Converting original values to billions\n",
    "\n",
    "result['market_cap'] = (result['market_cap'] / 1e9).astype(str)\n",
    "result['revenue'] = (result['revenue'] / 1e9).astype(str)\n",
    "\n",
    "result['og_market_cap'] = result[['currency', 'market_cap']].agg(' '.join, axis=1)\n",
    "result['og_revenue'] = result[['currency', 'revenue']].agg(' '.join, axis=1)\n",
    "\n",
    "# selecting variables\n",
    "\n",
    "result = result[['company', 'og_market_cap', 'market_cap_usd', 'og_revenue', 'revenue_usd']]\n",
    "result = pd.DataFrame(result)"
   ]
  },
  {
   "cell_type": "markdown",
   "id": "d8411a34-150e-419d-8cda-9c96052ce6c3",
   "metadata": {},
   "source": [
    "### Adding `result` to the master excel"
   ]
  },
  {
   "cell_type": "code",
   "execution_count": 7,
   "id": "7cb5f5b8-7859-47bb-a951-f25c7b75a837",
   "metadata": {},
   "outputs": [],
   "source": [
    "new_sheet = 'market_cap_data'"
   ]
  },
  {
   "cell_type": "code",
   "execution_count": 8,
   "id": "deba6b8e-afc2-4a7e-94b4-a29d535de732",
   "metadata": {},
   "outputs": [],
   "source": [
    "with pd.ExcelWriter(file_path, engine='openpyxl', mode='a', if_sheet_exists='replace') as writer:\n",
    "    result.to_excel(writer, sheet_name=new_sheet, index=False)"
   ]
  }
 ],
 "metadata": {
  "kernelspec": {
   "display_name": "Python 3 (ipykernel)",
   "language": "python",
   "name": "python3"
  },
  "language_info": {
   "codemirror_mode": {
    "name": "ipython",
    "version": 3
   },
   "file_extension": ".py",
   "mimetype": "text/x-python",
   "name": "python",
   "nbconvert_exporter": "python",
   "pygments_lexer": "ipython3",
   "version": "3.12.4"
  }
 },
 "nbformat": 4,
 "nbformat_minor": 5
}
