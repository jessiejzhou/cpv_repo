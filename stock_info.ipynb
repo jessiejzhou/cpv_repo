{
 "cells": [
  {
   "cell_type": "code",
   "execution_count": 1,
   "id": "2e012bd2-039e-4980-9a3c-200aafaf7e40",
   "metadata": {},
   "outputs": [],
   "source": [
    "import yfinance as yf\n",
    "import json\n",
    "import pandas as pd\n",
    "import requests\n",
    "from openpyxl import load_workbook"
   ]
  },
  {
   "cell_type": "markdown",
   "id": "3a667c55-10b0-4b41-bcd2-32643047108c",
   "metadata": {},
   "source": [
    "### loading the data, if file name is updated just change `file_path`"
   ]
  },
  {
   "cell_type": "code",
   "execution_count": 2,
   "id": "7659f6fc-b844-45cf-ba3d-dc4090661730",
   "metadata": {},
   "outputs": [],
   "source": [
    "file_path = \"/Users/counterpartventures/Desktop/Data/Survey_Data_V5.xlsx\"\n",
    "df = pd.read_excel(file_path, sheet_name=\"tickers\")"
   ]
  },
  {
   "cell_type": "markdown",
   "id": "1eafa280-8886-48bb-9eeb-deaf7d40567b",
   "metadata": {},
   "source": [
    "### defining functions to get metrics"
   ]
  },
  {
   "cell_type": "code",
   "execution_count": 3,
   "id": "294a9085-f306-448e-906d-418c238146d9",
   "metadata": {},
   "outputs": [],
   "source": [
    "def get_market_cap(ticker):\n",
    "    company = yf.Ticker(ticker)\n",
    "    return company.info.get(\"marketCap\", None)\n",
    "\n",
    "def get_currency(ticker):\n",
    "    company = yf.Ticker(ticker)\n",
    "    return company.info.get(\"currency\", None)\n",
    "\n",
    "def get_revenue(ticker):\n",
    "    company = yf.Ticker(ticker)\n",
    "    revenue = company.financials.loc['Total Revenue'].dropna()\n",
    "    return revenue.iloc[0]"
   ]
  },
  {
   "cell_type": "markdown",
   "id": "0eb36459-2e11-4227-ab47-231504df2a40",
   "metadata": {},
   "source": [
    "### Getting metrics from Yahoo Finance, adding them to a new df `results`"
   ]
  },
  {
   "cell_type": "code",
   "execution_count": 4,
   "id": "2a8f6b41-4fc6-4bd0-a998-7c28e256ff48",
   "metadata": {},
   "outputs": [],
   "source": [
    "market_caps = []\n",
    "revenues = []\n",
    "currencies = []\n",
    "\n",
    "# pulling datta\n",
    "\n",
    "for ticker in df[\"ticker_symbol\"]:\n",
    "    market_cap = get_market_cap(ticker)\n",
    "    revenue = get_revenue(ticker)\n",
    "    currency = get_currency(ticker)\n",
    "\n",
    "    market_caps.append(market_cap)\n",
    "    revenues.append(revenue)\n",
    "    currencies.append(currency)"
   ]
  },
  {
   "cell_type": "code",
   "execution_count": null,
   "id": "652d9c61-5fa3-4172-ba0b-66a36b2c4580",
   "metadata": {},
   "outputs": [],
   "source": [
    "# creating new df with data pull\n",
    "\n",
    "result = pd.DataFrame({\n",
    "    'company': df['corp_parent'],\n",
    "    'market_cap': market_caps,\n",
    "    'revenue': revenues,\n",
    "    'currency' : currencies\n",
    "})"
   ]
  },
  {
   "cell_type": "markdown",
   "id": "d110f7e1-5c73-445d-9f39-703d008a3e2d",
   "metadata": {},
   "source": [
    "### Converting Currency to USD"
   ]
  },
  {
   "cell_type": "code",
   "execution_count": 5,
   "id": "483e464d-3e64-4c46-91c1-e588beba24dd",
   "metadata": {},
   "outputs": [],
   "source": [
    "# Conversion rate API\n",
    "\n",
    "api_key = '225a1d628c6d8905e45fa173'\n",
    "url = f'https://v6.exchangerate-api.com/v6/{api_key}/latest/USD'\n",
    "response = requests.get(url)\n",
    "conversions = response.json()\n",
    "\n",
    "result['currency'] = result['currency'].str.upper()\n",
    "\n",
    "def convert_usd(amt, currency):\n",
    "    if currency == 'USD' or pd.isna(amt):\n",
    "        return amt\n",
    "    elif amt is not None:\n",
    "        if currency in conversions['conversion_rates']:\n",
    "            rate = conversions['conversion_rates'][currency]\n",
    "            return amt / rate\n",
    "    return None\n",
    "\n",
    "# converting market cap and revenue to $B\n",
    "\n",
    "result['market_cap_usd'] = result.apply(\n",
    "    lambda row: row['market_cap'] if row['currency'] == 'USD'\n",
    "    else convert_usd(row['market_cap'], row['currency']),\n",
    "    axis = 1\n",
    ") / 1e9\n",
    "\n",
    "result['revenue_usd'] = result.apply(\n",
    "    lambda row: row['revenue'] if row['currency'] == 'USD'\n",
    "    else convert_usd(row['revenue'], row['currency']),\n",
    "    axis = 1\n",
    ") / 1e9"
   ]
  },
  {
   "cell_type": "code",
   "execution_count": 6,
   "id": "d65015cb-ac07-4131-8eaf-6439c6c8b7d3",
   "metadata": {
    "scrolled": true
   },
   "outputs": [],
   "source": [
    "## Converting original values to billions\n",
    "\n",
    "result['market_cap'] = (result['market_cap'] / 1e9).astype(str)\n",
    "result['revenue'] = (result['revenue'] / 1e9).astype(str)\n",
    "\n",
    "result['og_market_cap'] = result[['currency', 'market_cap']].agg(' '.join, axis=1)\n",
    "result['og_revenue'] = result[['currency', 'revenue']].agg(' '.join, axis=1)\n",
    "\n",
    "# selecting variables\n",
    "\n",
    "result = result[['company', 'og_market_cap', 'market_cap_usd', 'og_revenue', 'revenue_usd']]\n",
    "result = pd.DataFrame(result)"
   ]
  },
  {
   "cell_type": "markdown",
   "id": "d8411a34-150e-419d-8cda-9c96052ce6c3",
   "metadata": {},
   "source": [
    "### Adding `result` to the master excel"
   ]
  },
  {
   "cell_type": "code",
   "execution_count": 7,
   "id": "7cb5f5b8-7859-47bb-a951-f25c7b75a837",
   "metadata": {},
   "outputs": [],
   "source": [
    "new_sheet = 'market_cap_data'"
   ]
  },
  {
   "cell_type": "code",
   "execution_count": 8,
   "id": "deba6b8e-afc2-4a7e-94b4-a29d535de732",
   "metadata": {},
   "outputs": [],
   "source": [
    "with pd.ExcelWriter(file_path, engine='openpyxl', mode='a', if_sheet_exists='replace') as writer:\n",
    "    result.to_excel(writer, sheet_name=new_sheet, index=False)"
   ]
  }
 ],
 "metadata": {
  "kernelspec": {
   "display_name": "Python 3 (ipykernel)",
   "language": "python",
   "name": "python3"
  },
  "language_info": {
   "codemirror_mode": {
    "name": "ipython",
    "version": 3
   },
   "file_extension": ".py",
   "mimetype": "text/x-python",
   "name": "python",
   "nbconvert_exporter": "python",
   "pygments_lexer": "ipython3",
   "version": "3.12.4"
  }
 },
 "nbformat": 4,
 "nbformat_minor": 5
}
